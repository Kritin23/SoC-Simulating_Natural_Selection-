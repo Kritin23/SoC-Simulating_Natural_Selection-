{
 "cells": [
  {
   "cell_type": "code",
   "execution_count": 1,
   "metadata": {},
   "outputs": [],
   "source": [
    "import numpy as np\n",
    "import matplotlib.pyplot as plt"
   ]
  },
  {
   "cell_type": "code",
   "execution_count": 2,
   "metadata": {},
   "outputs": [],
   "source": [
    "#Random Number Generator\n",
    "rng = np.random.default_rng()"
   ]
  },
  {
   "cell_type": "markdown",
   "metadata": {},
   "source": [
    "## Framework for Simulations"
   ]
  },
  {
   "cell_type": "code",
   "execution_count": 3,
   "metadata": {},
   "outputs": [],
   "source": [
    "class Player:\n",
    "    def __init__(self, actions:int, strategy:np.ndarray, size:float = 1, speed:float = 1) -> None:\n",
    "        self.pastPayoffs = np.empty(shape=(0,))\n",
    "        self.actions = actions\n",
    "        assert(strategy.ndim == 1)\n",
    "        assert(strategy.shape[0] == actions)\n",
    "        assert(np.sum(strategy) == 1)\n",
    "        self.strategy = strategy\n",
    "        self.size = size\n",
    "        self.speed = speed\n",
    "\n",
    "    def GetAction(self) -> int:\n",
    "        return rng.choice(self.actions, size=1, p=self.strategy)\n",
    "\n",
    "    def ExtendPayoffs(self, newPayoffs: np.ndarray) -> None:\n",
    "        self.pastPayoffs = np.concatenate([self.pastPayoffs, newPayoffs])\n",
    "\n",
    "    def GetPayoff(self) -> np.ndarray:\n",
    "        return self.pastPayoffs\n",
    "    \n",
    "    def SetSpeed(self, speed:float) -> None:\n",
    "        self.speed = speed\n",
    "    \n",
    "    def SetSize(self, size:float) -> None:\n",
    "        self.size = size\n",
    "\n",
    "    def UpdateSpeed(self, delSpeed:float) -> None:\n",
    "        self.speed += delSpeed\n",
    "\n",
    "    def UpdateSize(self, delSize:float) -> None:\n",
    "        self.size += delSize"
   ]
  },
  {
   "cell_type": "code",
   "execution_count": 4,
   "metadata": {},
   "outputs": [],
   "source": [
    "class Game:\n",
    "    \"\"\" \n",
    "    utility: np.ndarray with dimensions nPlayers+1 and shape[i]=player[i].actions and shape[-1]=nPlayers\n",
    "    \"\"\"\n",
    "    def __init__(self, nPlayers:int, strategies:list[np.ndarray], utility:np.ndarray):\n",
    "        assert(len(strategies) == nPlayers)\n",
    "        maxActions=0;\n",
    "        for i in range(nPlayers):\n",
    "            assert(utility.shape[i] == strategies[i].size)\n",
    "            maxActions = max(maxActions, strategies[i].size)\n",
    "        assert(utility.shape[-1] == nPlayers)\n",
    "        self.Players = [Player(strategies[i].size, strategies[i]) for i in range(nPlayers)]\n",
    "        self.utility = utility.astype(np.float32)\n",
    "        strategylengths = [strategies[i].size for i in range(nPlayers)]\n",
    "        self.tiledProbability = np.ones(shape = [nPlayers, *strategylengths])\n",
    "        self.allPayoffs = np.empty(shape = [nPlayers, 0])\n",
    "        self.newPayoffs = np.empty(shape = [nPlayers, 0])\n",
    "        for i in range(nPlayers):\n",
    "            x = np.reshape(strategies[i], [1 if j!=i else -1 for j in range(nPlayers)])\n",
    "            self.tiledProbability[i] *= x\n",
    "\n",
    "        self.probability = np.prod(self.tiledProbability, axis=0)\n",
    "\n",
    "\n",
    "    \"\"\"\n",
    "    returns payoff of ith player if 0<=i<nPlayers\n",
    "    return an array of payoff of all players otherwise\n",
    "    \"\"\"\n",
    "    def GetExpectedPayoff(self, i:int) -> np.ndarray:\n",
    "        u = self.utility.copy()\n",
    "        u *= np.expand_dims(self.probability, axis=-1)\n",
    "        payoff=np.sum(u, axis=tuple(range(len(self.Players))))\n",
    "        if(0<=i and i<len(self.Players)):\n",
    "            return np.round(payoff[i], 8)\n",
    "        else:\n",
    "            return payoff\n",
    "        \n",
    "    def GetRandomStrategyProfile(self):\n",
    "        flat_prob = self.probability.flatten()\n",
    "        flat_ind = np.random.choice(len(flat_prob), p=flat_prob)\n",
    "        return np.unravel_index(flat_ind, self.probability.shape)\n",
    "    \n",
    "    def GetPayoff(self, actions:tuple, i:int):\n",
    "        p = self.utility[actions]\n",
    "        if(0<=i and i<len(self.Players)):\n",
    "            return p[i]\n",
    "        else:\n",
    "            return p\n",
    "\n",
    "    def PlayGame(self):\n",
    "        strategyProfile = self.GetRandomStrategyProfile()\n",
    "        payoffs = self.GetPayoff(strategyProfile, -1)\n",
    "        payoffs2 = payoffs.reshape((-1,1))\n",
    "        self.newPayoffs = np.hstack([self.newPayoffs,payoffs2] )\n",
    "        return payoffs\n",
    "    \n",
    "    def GetPayoffForPlayerStrategy(self, player:int, strategy:np.ndarray) -> np.ndarray:\n",
    "        if(np.sum(strategy) != 1 or strategy.shape != (self.Players[player].actions,)):\n",
    "            raise ValueError(\"Not a valid strategy\")\n",
    "        x = np.reshape(strategy, [1 if j!=player else -1 for j in range(len(self.Players))])\n",
    "        y = self.tiledProbability.copy()\n",
    "        y[player]=x\n",
    "        prob = np.prod(y, axis=0)\n",
    "        u = self.utility.copy()\n",
    "        u *= np.expand_dims(prob, axis=-1)\n",
    "        payoff=np.sum(u, axis=tuple(range(len(self.Players))))\n",
    "        return payoff\n",
    "    def GetPayoffForStrategy(self, strategy:list[np.ndarray]) -> np.ndarray:\n",
    "        probability = np.ones(shape = [len(strategy[i]) for i in range(len(strategy))])\n",
    "        for i in range(len(strategy)):\n",
    "            x = strategy[i].reshape([1 if i!=j else -1 for j in range(len(strategy))])\n",
    "            probability *= x\n",
    "        u = self.utility.copy()\n",
    "        u = self.utility.copy()\n",
    "        u *= np.expand_dims(probability, axis=-1)\n",
    "        payoff=np.sum(u, axis=tuple(range(len(self.Players))))\n",
    "        return payoff\n",
    "\n",
    "\n",
    "\n",
    "    def GetPastPayoffs(self, player:int) -> np.ndarray:\n",
    "        if(self.newPayoffs.size>0):\n",
    "            for i in range(len(self.Players)):\n",
    "                self.Players[i].ExtendPayoffs(self.newPayoffs[i])\n",
    "        self.allPayoffs = np.hstack([self.allPayoffs, self.newPayoffs])\n",
    "        self.newPayoffs = np.empty(shape=(len(self.Players),0))\n",
    "        if(0<=player and player<len(self.Players)):\n",
    "            return self.Players[player].GetPayoff()\n",
    "        else:\n",
    "            return self.allPayoffs\n",
    "            \n",
    "\n",
    "\n",
    "        "
   ]
  },
  {
   "cell_type": "markdown",
   "metadata": {},
   "source": [
    "## A Sample Game and its Nash Equilibrium\n",
    "\n",
    "The game is as follows: \n",
    ">    Each player choses an integer. The payoff for each player is (chosen number)*(40 - sum of all chosen numbers)\n",
    "\n",
    "To find a Nash Equilibrium, I start by elimination of weakly dominated strategies \n",
    "\n"
   ]
  },
  {
   "cell_type": "code",
   "execution_count": 5,
   "metadata": {},
   "outputs": [],
   "source": [
    "start = 0\n",
    "stop  = 41\n",
    "\n",
    "a = np.arange(start,stop)\n",
    "a=a.reshape((-1,1))\n",
    "b = np.arange(start,stop)\n",
    "b=b.reshape((1,-11))\n",
    "\n",
    "d = np.ones(shape = (2,41))\n",
    "d *= 1./41\n",
    "\n",
    "c = 40-(a+b)\n",
    "\n",
    "p1 = a*c\n",
    "p2 = b*c\n",
    "\n",
    "\n",
    "utility = np.stack([p1,p2], axis=-1)\n",
    "game = Game(2, d, utility)\n",
    "\n"
   ]
  },
  {
   "cell_type": "markdown",
   "metadata": {},
   "source": [
    "The following code block shows that strategies of chosing $21, 22 \\ldots 40$ are weakly dominated strategies."
   ]
  },
  {
   "cell_type": "code",
   "execution_count": 6,
   "metadata": {},
   "outputs": [
    {
     "name": "stdout",
     "output_type": "stream",
     "text": [
      "True\n"
     ]
    }
   ],
   "source": [
    "flag = (p1[0] >= p1[40]).all()\n",
    "for i in range(1,20):\n",
    "    flag = (p1[i]>=p1[40-i]).all() and flag\n",
    "\n",
    "print(flag)"
   ]
  },
  {
   "cell_type": "markdown",
   "metadata": {},
   "source": [
    "The following code block shows that strategies of chosing $0, 1 \\ldots 9$ are weakly dominated strategies in the reduced game."
   ]
  },
  {
   "cell_type": "code",
   "execution_count": 7,
   "metadata": {},
   "outputs": [
    {
     "name": "stdout",
     "output_type": "stream",
     "text": [
      "True\n"
     ]
    }
   ],
   "source": [
    "reduced_p1 = p1[0:21,0:21]\n",
    "reduced_p2 = p2[0:21,0:21]\n",
    "\n",
    "flag = (reduced_p1[20] >= reduced_p1[0]).all()\n",
    "\n",
    "for i in range(1,10):\n",
    "    flag = (reduced_p1[20-i]>=reduced_p1[i]).all() and flag\n",
    "\n",
    "print(flag)"
   ]
  },
  {
   "cell_type": "markdown",
   "metadata": {},
   "source": [
    "The following code block shows that strategies of chosing $16, 17 \\ldots 20$ are weakly dominated strategies in the reduced game."
   ]
  },
  {
   "cell_type": "code",
   "execution_count": 8,
   "metadata": {},
   "outputs": [
    {
     "name": "stdout",
     "output_type": "stream",
     "text": [
      "True\n"
     ]
    }
   ],
   "source": [
    "reduced_p1_1 = reduced_p1[10:21,10:21]\n",
    "reduced_p2_1 = reduced_p2[10:21,10:21]\n",
    "\n",
    "flag = (reduced_p1_1[0] >= reduced_p1_1[10]).all()\n",
    "\n",
    "for i in range(1,5):\n",
    "    flag = (reduced_p1_1[i]>=reduced_p1_1[10-i]).all() and flag\n",
    "\n",
    "print(flag)"
   ]
  },
  {
   "cell_type": "markdown",
   "metadata": {},
   "source": [
    "In the reduced game, the available strategies for the players are choosing $10, 11, 12, 13, 14 \\text{ and } 15$ \\\n",
    "The following code blocks eliminate $10, 11, 12$\n"
   ]
  },
  {
   "cell_type": "code",
   "execution_count": 9,
   "metadata": {},
   "outputs": [
    {
     "name": "stdout",
     "output_type": "stream",
     "text": [
      "True\n",
      "True\n",
      "True\n"
     ]
    }
   ],
   "source": [
    "reduced_p1_2 = reduced_p1_1[0:6,0:6]\n",
    "reduced_p2_2 = reduced_p2_1[0:6,0:6]\n",
    "\n",
    "#15 dominates 10\n",
    "print((reduced_p1_2[5]>=reduced_p1_2[0]).all())\n",
    "\n",
    "#14 dominates 11\n",
    "print((reduced_p1_2[4]>=reduced_p1_2[1]).all())\n",
    "\n",
    "#13 dominates 12\n",
    "print((reduced_p1_2[3]>=reduced_p1_2[2]).all())\n",
    "\n"
   ]
  },
  {
   "cell_type": "markdown",
   "metadata": {},
   "source": [
    "The following code block shows choosing 13 dominates over choosing 14 and 15. \\\n",
    "Hence, 13 must be the PSNE\n"
   ]
  },
  {
   "cell_type": "code",
   "execution_count": 10,
   "metadata": {},
   "outputs": [
    {
     "name": "stdout",
     "output_type": "stream",
     "text": [
      "True\n",
      "True\n"
     ]
    }
   ],
   "source": [
    "reduced_p1_3 = reduced_p1_2[3:6,3:6]\n",
    "reduced_p2_3 = reduced_p2_2[3:6,3:6]\n",
    "\n",
    "print((reduced_p1_3[0]>=reduced_p1_3[1]).all())\n",
    "print((reduced_p1_3[0]>=reduced_p1_3[2]).all())"
   ]
  },
  {
   "cell_type": "markdown",
   "metadata": {},
   "source": [
    "### Verifying that choosing 13 is indeed the PSNE\n",
    "\n",
    "I verify that choosing 13 is the PSNE by checking that no player can benefit by changing the strategy unilaterally"
   ]
  },
  {
   "cell_type": "code",
   "execution_count": 11,
   "metadata": {},
   "outputs": [
    {
     "name": "stdout",
     "output_type": "stream",
     "text": [
      "13 is the PSNE\n"
     ]
    }
   ],
   "source": [
    "zeros = np.zeros((41,), dtype=np.float32)\n",
    "player_strat = zeros.copy()\n",
    "player_strat[13] = 1.0\n",
    "game_strat = [player_strat, player_strat]\n",
    "\n",
    "game = Game(2, game_strat, utility)\n",
    "flag = True\n",
    "for i in range(41):\n",
    "    if(i==13):\n",
    "        continue\n",
    "    else:\n",
    "        strat_p1 = zeros.copy()\n",
    "        strat_p1[i] = 1.0\n",
    "        if((game.GetPayoffForPlayerStrategy(0,strat_p1)>game.GetExpectedPayoff(1)).all()):\n",
    "            print(f\"{i} is a better strategy\")\n",
    "            flag=False\n",
    "if flag:\n",
    "    print(\"13 is the PSNE\")\n",
    "\n",
    "\n",
    "\n",
    "\n",
    "\n"
   ]
  }
 ],
 "metadata": {
  "kernelspec": {
   "display_name": "Python 3",
   "language": "python",
   "name": "python3"
  },
  "language_info": {
   "codemirror_mode": {
    "name": "ipython",
    "version": 3
   },
   "file_extension": ".py",
   "mimetype": "text/x-python",
   "name": "python",
   "nbconvert_exporter": "python",
   "pygments_lexer": "ipython3",
   "version": "3.11.9"
  }
 },
 "nbformat": 4,
 "nbformat_minor": 2
}
