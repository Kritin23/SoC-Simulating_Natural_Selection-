{
 "cells": [
  {
   "cell_type": "code",
   "execution_count": null,
   "metadata": {},
   "outputs": [],
   "source": [
    "import numpy as np\n",
    "import matplotlib.pyplot as plt"
   ]
  },
  {
   "cell_type": "code",
   "execution_count": null,
   "metadata": {},
   "outputs": [],
   "source": [
    "#Random Number Generator\n",
    "rng = np.random.default_rng()"
   ]
  },
  {
   "cell_type": "markdown",
   "metadata": {},
   "source": [
    "## Framework for Simulations"
   ]
  },
  {
   "cell_type": "code",
   "execution_count": null,
   "metadata": {},
   "outputs": [],
   "source": [
    "class Player:\n",
    "    def __init__(self, actions:int = 0, strategy:np.ndarray = np.empty((0,), dtype=np.float32), size:float = 1, speed:float = 1, fitness:float = 1) -> None:\n",
    "        self.pastPayoffs = np.empty(shape=(0,))\n",
    "        self.actions = actions\n",
    "        assert(strategy.ndim == 1)\n",
    "        assert(strategy.shape[0] == actions)\n",
    "        self.strategy = strategy\n",
    "        if(np.sum(strategy) != 1):\n",
    "            self.strategy /= max(1., np.sum(strategy))\n",
    "        self.size = size\n",
    "        self.speed = speed\n",
    "        self.fitness = fitness\n",
    "\n",
    "    def GetAction(self) -> int:\n",
    "        return rng.choice(self.actions, size=1, p=self.strategy)\n",
    "\n",
    "    def ExtendPayoffs(self, newPayoffs: np.ndarray) -> None:\n",
    "        self.pastPayoffs = np.concatenate([self.pastPayoffs, newPayoffs])\n",
    "\n",
    "    def GetPayoff(self) -> np.ndarray:\n",
    "        return self.pastPayoffs\n",
    "    \n",
    "    def SetSpeed(self, speed:float) -> None:\n",
    "        self.speed = speed\n",
    "    \n",
    "    def SetSize(self, size:float) -> None:\n",
    "        self.size = size\n",
    "\n",
    "    def UpdateSpeed(self, delSpeed:float) -> None:\n",
    "        self.speed += delSpeed\n",
    "\n",
    "    def UpdateSize(self, delSize:float) -> None:\n",
    "        self.size += delSize\n",
    "\n",
    "    def SetFitness(self, fitness: float) -> None:\n",
    "        self.fitness = fitness\n",
    "    \n",
    "    def UpdateFitness(self, delFit: float) -> None:\n",
    "        self.fitness *= (1+delFit)\n",
    "        self.fitness = max(self.fitness, 1e-7)\n"
   ]
  },
  {
   "cell_type": "code",
   "execution_count": null,
   "metadata": {},
   "outputs": [],
   "source": [
    "class Game:\n",
    "    \"\"\" \n",
    "    utility: np.ndarray with dimensions nPlayers+1 and shape[i]=player[i].actions and shape[-1]=nPlayers\n",
    "    \"\"\"\n",
    "    def __init__(self, nPlayers:int, strategies:list[np.ndarray], utility:np.ndarray):\n",
    "        assert(len(strategies) == nPlayers)\n",
    "        maxActions=0;\n",
    "        for i in range(nPlayers):\n",
    "            assert(utility.shape[i] == strategies[i].size)\n",
    "            maxActions = max(maxActions, strategies[i].size)\n",
    "        assert(utility.shape[-1] == nPlayers)\n",
    "        self.Players = [Player(strategies[i].size, strategies[i]) for i in range(nPlayers)]\n",
    "        self.utility = utility.astype(np.float32)\n",
    "        strategylengths = [strategies[i].size for i in range(nPlayers)]\n",
    "        self.tiledProbability = np.ones(shape = [nPlayers, *strategylengths])\n",
    "        self.allPayoffs = np.empty(shape = [nPlayers, 0])\n",
    "        self.newPayoffs = np.empty(shape = [nPlayers, 0])\n",
    "        for i in range(nPlayers):\n",
    "            x = np.reshape(strategies[i], [1 if j!=i else -1 for j in range(nPlayers)])\n",
    "            self.tiledProbability[i] *= x\n",
    "\n",
    "        self.probability = np.prod(self.tiledProbability, axis=0)\n",
    "\n",
    "\n",
    "    \"\"\"\n",
    "    returns payoff of ith player if 0<=i<nPlayers\n",
    "    return an array of payoff of all players otherwise\n",
    "    \"\"\"\n",
    "    def GetExpectedPayoff(self, i:int) -> np.ndarray:\n",
    "        u = self.utility.copy()\n",
    "        u *= np.expand_dims(self.probability, axis=-1)\n",
    "        payoff=np.sum(u, axis=tuple(range(len(self.Players))))\n",
    "        if(0<=i and i<len(self.Players)):\n",
    "            return np.round(payoff[i], 8)\n",
    "        else:\n",
    "            return payoff\n",
    "        \n",
    "    def GetRandomStrategyProfile(self):\n",
    "        flat_prob = self.probability.flatten()\n",
    "        flat_ind = np.random.choice(len(flat_prob), p=flat_prob)\n",
    "        return np.unravel_index(flat_ind, self.probability.shape)\n",
    "    \n",
    "    def GetPayoff(self, actions:tuple, i:int):\n",
    "        p = self.utility[actions]\n",
    "        if(0<=i and i<len(self.Players)):\n",
    "            return p[i]\n",
    "        else:\n",
    "            return p\n",
    "\n",
    "    def PlayGame(self):\n",
    "        strategyProfile = self.GetRandomStrategyProfile()\n",
    "        payoffs = self.GetPayoff(strategyProfile, -1)\n",
    "        payoffs2 = payoffs.reshape((-1,1))\n",
    "        self.newPayoffs = np.hstack([self.newPayoffs,payoffs2] )\n",
    "        return payoffs\n",
    "    \n",
    "    def GetPayoffForPlayerStrategy(self, player:int, strategy:np.ndarray) -> np.ndarray:\n",
    "        if(np.sum(strategy) != 1 or strategy.shape != (self.Players[player].actions,)):\n",
    "            raise ValueError(\"Not a valid strategy\")\n",
    "        x = np.reshape(strategy, [1 if j!=player else -1 for j in range(len(self.Players))])\n",
    "        y = self.tiledProbability.copy()\n",
    "        y[player]=x\n",
    "        prob = np.prod(y, axis=0)\n",
    "        u = self.utility.copy()\n",
    "        u *= np.expand_dims(prob, axis=-1)\n",
    "        payoff=np.sum(u, axis=tuple(range(len(self.Players))))\n",
    "        return payoff\n",
    "    def GetPayoffForStrategy(self, strategy:list[np.ndarray]) -> np.ndarray:\n",
    "        probability = np.ones(shape = [len(strategy[i]) for i in range(len(strategy))])\n",
    "        for i in range(len(strategy)):\n",
    "            x = strategy[i].reshape([1 if i!=j else -1 for j in range(len(strategy))])\n",
    "            probability *= x\n",
    "        u = self.utility.copy()\n",
    "        u = self.utility.copy()\n",
    "        u *= np.expand_dims(probability, axis=-1)\n",
    "        payoff=np.sum(u, axis=tuple(range(len(self.Players))))\n",
    "        return payoff\n",
    "\n",
    "\n",
    "\n",
    "    def GetPastPayoffs(self, player:int) -> np.ndarray:\n",
    "        if(self.newPayoffs.size>0):\n",
    "            for i in range(len(self.Players)):\n",
    "                self.Players[i].ExtendPayoffs(self.newPayoffs[i])\n",
    "        self.allPayoffs = np.hstack([self.allPayoffs, self.newPayoffs])\n",
    "        self.newPayoffs = np.empty(shape=(len(self.Players),0))\n",
    "        if(0<=player and player<len(self.Players)):\n",
    "            return self.Players[player].GetPayoff()\n",
    "        else:\n",
    "            return self.allPayoffs\n",
    "            \n",
    "\n",
    "\n",
    "        "
   ]
  },
  {
   "cell_type": "markdown",
   "metadata": {},
   "source": [
    "## Chemostat Simulation"
   ]
  },
  {
   "cell_type": "markdown",
   "metadata": {},
   "source": [
    "### Simulation Variables"
   ]
  },
  {
   "cell_type": "code",
   "execution_count": null,
   "metadata": {},
   "outputs": [],
   "source": [
    "populationSize = 1000\n",
    "fitnessChange = 0.01\n",
    "fitnessIncChance = 0.1\n",
    "fitnessDecChance = 0.11\n",
    "delChance = 0.2\n",
    "generations = 1000\n",
    "parallelSimulations = 10"
   ]
  },
  {
   "cell_type": "markdown",
   "metadata": {},
   "source": [
    "### Basic Chemostat"
   ]
  },
  {
   "cell_type": "code",
   "execution_count": null,
   "metadata": {},
   "outputs": [],
   "source": [
    "population = [Player(fitness = 1) for i in range(populationSize)]\n",
    "fitnesses = np.asarray([p.fitness for p in population], dtype=np.float64)\n",
    "probabilities = fitnesses / np.sum(fitnesses)\n",
    "\n",
    "fitnessData = np.empty(dtype = np.float64, shape=(0,generations,populationSize))\n",
    "simFitness = np.empty(dtype = np.float64, shape=(0, populationSize))\n",
    "\n",
    "fitnessIncreaseCount = 0\n",
    "fitnessDecreaseCount = 0\n",
    "\n",
    "higherFitChosenCount = 0\n",
    "lowerFitChosenCount = 0\n",
    "\n",
    "\n",
    "for sim in range(1,parallelSimulations+1):\n",
    "    population = [Player(fitness=1) for i in range(populationSize)]\n",
    "    fitnesses = np.asarray([p.fitness for p in population], dtype=np.float64)\n",
    "    probabilities = fitnesses / np.sum(fitnesses)\n",
    "    simFitness = np.empty(dtype = np.float64, shape=(0, populationSize))\n",
    "    avgFitness = np.mean(fitnesses)\n",
    "\n",
    "    delChance /= 2\n",
    "    fitnessDecChance = fitnessIncChance + delChance\n",
    "\n",
    "    for i in range(1,generations+1):\n",
    "        rnd = rng.random(size=(populationSize,))\n",
    "        parents = rng.choice(range(populationSize), (populationSize,), p=probabilities)\n",
    "        #print(parents)\n",
    "        currentPopulation = population\n",
    "        population = []\n",
    "        for idx,j in enumerate(parents):\n",
    "            if(currentPopulation[j].fitness > avgFitness*1.01):\n",
    "                higherFitChosenCount += 1\n",
    "            elif(currentPopulation[j].fitness <= avgFitness*0.99):\n",
    "                lowerFitChosenCount += 1\n",
    "            population.append(Player(size=currentPopulation[j].size, speed = currentPopulation[j].speed, fitness=currentPopulation[j].fitness))\n",
    "            if(rnd[j]<fitnessIncChance):\n",
    "                population[-1].UpdateFitness(fitnessChange)\n",
    "                fitnessIncreaseCount += 1\n",
    "            elif(rnd[j]<fitnessIncChance+fitnessDecChance):\n",
    "                population[-1].UpdateFitness(-fitnessChange)\n",
    "                fitnessDecreaseCount += 1\n",
    "            fitnesses[idx] = population[-1].fitness\n",
    "\n",
    "        probabilities = fitnesses / np.sum(fitnesses)\n",
    "        avgFitness = np.mean(fitnesses)\n",
    "        #print(fitnesses)\n",
    "        simFitness = np.concatenate([simFitness, np.reshape(fitnesses, (1,-1))],axis=0)\n",
    "    fitnessData = np.concatenate([fitnessData, np.reshape(simFitness, (1,generations, populationSize))], axis=0)\n",
    "    \n"
   ]
  },
  {
   "cell_type": "markdown",
   "metadata": {},
   "source": [
    "### Modified Chemostat"
   ]
  },
  {
   "cell_type": "code",
   "execution_count": null,
   "metadata": {},
   "outputs": [],
   "source": [
    "def UpdateFitness(populationArray: list) -> np.ndarray:\n",
    "    size = np.empty((populationSize,))\n",
    "    speed = np.empty((populationSize,))\n",
    "    for i,p in enumerate(populationArray):\n",
    "        size[i] = p.size\n",
    "        speed[i] = p.speed\n",
    "    fitness = (size-3)*(size-0.5)*(speed-2)*(speed-4)*(size-speed)\n",
    "    fitness = np.maximum(fitness,-9.99)\n",
    "    fitness = np.minimum(fitness, 10)\n",
    "    fitness += 10\n",
    "    fitness /= 4\n",
    "\n",
    "    return fitness\n",
    "    \n"
   ]
  },
  {
   "cell_type": "code",
   "execution_count": null,
   "metadata": {},
   "outputs": [],
   "source": [
    "population = [Player() for i in range(populationSize)]\n",
    "fitnesses = np.asarray([p.fitness for p in population], dtype=np.float64)\n",
    "probabilities = fitnesses / np.sum(fitnesses)\n",
    "\n",
    "fitnessData = np.empty(dtype = np.float64, shape=(0,generations,populationSize))\n",
    "simFitness = np.empty(dtype = np.float64, shape=(0, populationSize))\n",
    "\n",
    "sizeData = np.empty((0, populationSize))\n",
    "speedData = np.empty((0, populationSize))\n",
    "\n",
    "for sim in range(parallelSimulations):\n",
    "    random_n = rng.random(size=(populationSize,2))*2 + 1\n",
    "    population = [Player(size=random_n[i][0], speed=random_n[i][1]) for i in range(populationSize)]\n",
    "    fitnesses = np.asarray([p.fitness for p in population], dtype=np.float64)\n",
    "    probabilities = fitnesses / np.sum(fitnesses)\n",
    "    simFitness = np.empty(dtype = np.float64, shape=(0, populationSize))\n",
    "    for i in range(1,generations+1):\n",
    "        rnd = rng.random(size=(populationSize,2))\n",
    "        rnd -= 0.5\n",
    "        parents = rng.choice(population, (populationSize,), p=probabilities)\n",
    "        population = parents\n",
    "        for j in range(populationSize):\n",
    "            population[j].size += rnd[j][0]\n",
    "            population[j].speed += rnd[j][1]\n",
    "            population[j].size = max(population[j].size, 0)\n",
    "            population[j].size = min(population[j].size, 5)\n",
    "            population[j].speed = max(population[j].speed, 0)\n",
    "            population[j].speed = min(population[j].speed, 5)\n",
    "        fitnesses = UpdateFitness(population)\n",
    "        probabilities = fitnesses / np.sum(fitnesses)\n",
    "        simFitness = np.concatenate([simFitness, np.reshape(fitnesses, (1,-1))],axis=0)\n",
    "\n",
    "        sizes = np.ones((populationSize,))\n",
    "        speeds = np.ones((populationSize,))\n",
    "        for i in range(populationSize):\n",
    "            sizes[i] = population[i].size\n",
    "            speeds[i] = population[i].speed\n",
    "        \n",
    "    fitnessData = np.concatenate([fitnessData, np.reshape(simFitness, (1,generations, populationSize))], axis=0)\n",
    "    sizes = np.ones((populationSize,))\n",
    "    speeds = np.ones((populationSize,))\n",
    "    for i in range(populationSize):\n",
    "        sizes[i] = population[i].size\n",
    "        speeds[i] = population[i].speed\n",
    "    sizeData = np.concatenate([sizeData, np.reshape(sizes, (1,-1))], axis=0)\n",
    "    speedData = np.concatenate([speedData, np.reshape(speeds, (1,-1))], axis=0)\n"
   ]
  },
  {
   "cell_type": "markdown",
   "metadata": {},
   "source": [
    "### Visualise"
   ]
  },
  {
   "cell_type": "code",
   "execution_count": null,
   "metadata": {},
   "outputs": [],
   "source": [
    "sortedFitnessData = np.sort(fitnessData)"
   ]
  },
  {
   "cell_type": "code",
   "execution_count": null,
   "metadata": {},
   "outputs": [],
   "source": [
    "print(f\"Fitness Increase: {fitnessIncreaseCount}\\nFitness Decrease: {fitnessDecreaseCount}\")"
   ]
  },
  {
   "cell_type": "code",
   "execution_count": null,
   "metadata": {},
   "outputs": [],
   "source": [
    "print(f\"higher fitness chosen: {higherFitChosenCount}\\nlower fitness chosen: {lowerFitChosenCount}\")"
   ]
  },
  {
   "cell_type": "code",
   "execution_count": null,
   "metadata": {},
   "outputs": [],
   "source": [
    "avgAcrossSims = np.mean(sortedFitnessData, axis=0)\n",
    "for i in range(10):\n",
    "    n,bins= np.histogram(avgAcrossSims[int((i+1)*(generations/10)-1)])\n",
    "    bincentres = 0.5*(bins[1:]+bins[:-1])\n",
    "    plt.plot(bincentres, n, label=f\"gen {(i+1)*generations/10 -1}\", alpha = (50+20*i)/250)\n",
    "plt.legend()"
   ]
  },
  {
   "cell_type": "code",
   "execution_count": null,
   "metadata": {},
   "outputs": [],
   "source": [
    "avgFitnessforGen = np.mean(fitnessData, axis=-1)\n",
    "averageFitness = np.mean(avgFitnessforGen, axis=0)"
   ]
  },
  {
   "cell_type": "code",
   "execution_count": null,
   "metadata": {},
   "outputs": [],
   "source": [
    "for i in range(parallelSimulations):\n",
    "    data = np.minimum(avgFitnessforGen[i], 10)\n",
    "    plt.plot(data, alpha=0.8, label = f\"simulation {i+1}\")\n",
    "\n",
    "plt.legend()\n",
    "\n",
    "#plt.plot(np.minimum(averageFitness,10), color=(0,0,0))\n"
   ]
  }
 ],
 "metadata": {
  "language_info": {
   "name": "python"
  }
 },
 "nbformat": 4,
 "nbformat_minor": 2
}
